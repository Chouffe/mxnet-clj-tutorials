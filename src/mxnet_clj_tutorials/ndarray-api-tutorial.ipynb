{
 "cells": [
  {
   "cell_type": "markdown",
   "metadata": {},
   "source": [
    "# NDArray API Tutorial with `lein jupyter`"
   ]
  },
  {
   "cell_type": "markdown",
   "metadata": {},
   "source": [
    "## Getting setup with lein jupyter"
   ]
  },
  {
   "cell_type": "markdown",
   "metadata": {},
   "source": [
    "Installation guide can be found in the [Github Repo](https://github.com/clojupyter/lein-jupyter) of the project.\n",
    "\n",
    "One needs to add the following lein plugin to the `project.clj` file:"
   ]
  },
  {
   "cell_type": "markdown",
   "metadata": {},
   "source": [
    "```clojure\n",
    "(defproject foo \"0.1.0-SNAPSHOT\"\n",
    "  ...\n",
    "  :plugins [[lein-jupyter \"0.1.16\"]]\n",
    ")\n",
    "```"
   ]
  },
  {
   "cell_type": "markdown",
   "metadata": {},
   "source": [
    "One needs to install the clojure kernel with the following command when running it for the first time\n",
    "```bash\n",
    "lein jupyter install-kernel\n",
    "```"
   ]
  },
  {
   "cell_type": "markdown",
   "metadata": {},
   "source": [
    "Jupyter notebook can be started with the following command\n",
    "```bash\n",
    "lein jupyter notebook\n",
    "```"
   ]
  },
  {
   "cell_type": "markdown",
   "metadata": {},
   "source": [
    "## Creating a new Notebook"
   ]
  },
  {
   "cell_type": "markdown",
   "metadata": {},
   "source": [
    "Click on the top right corner to create a new notebook. Select the `Lein-Clojure` kernel.\n",
    "\n",
    "![Creating a new Notebook](../../images/lein-jupyter-tutorial-new.png)"
   ]
  },
  {
   "cell_type": "markdown",
   "metadata": {},
   "source": [
    "## Evaluating Clojure Code from a Notebook\n",
    "\n",
    "Now, one can evaluate arbitrary Clojure code from the notebook. The following cells load MXNet NDArray API and evaluates a few function calls."
   ]
  },
  {
   "cell_type": "code",
   "execution_count": null,
   "metadata": {},
   "outputs": [],
   "source": [
    "(ns mxnet-clj-tutorials.ndarray\n",
    "  \"Tutorial for `ndarray` manipulations\"\n",
    "  (:require\n",
    "    [org.apache.clojure-mxnet.dtype :as d]\n",
    "    [org.apache.clojure-mxnet.ndarray :as ndarray]\n",
    "    [org.apache.clojure-mxnet.image :as mx-img]\n",
    "    [org.apache.clojure-mxnet.random :as random]\n",
    "    [org.apache.clojure-mxnet.shape :as mx-shape]\n",
    "\n",
    "    [opencv4.core :as cv]\n",
    "    [opencv4.utils :as cvu]))"
   ]
  },
  {
   "cell_type": "markdown",
   "metadata": {},
   "source": [
    "Create an `ndarray` with content set to a specific value\n",
    "\n",
    "\n"
   ]
  },
  {
   "cell_type": "code",
   "execution_count": 9,
   "metadata": {},
   "outputs": [
    {
     "data": {
      "text/plain": [
       "#'mxnet-clj-tutorials.ndarray/a"
      ]
     },
     "execution_count": 9,
     "metadata": {},
     "output_type": "execute_result"
    }
   ],
   "source": [
    "(def a\n",
    "  (ndarray/array [1 2 3 4 5 6] [2 3]))"
   ]
  },
  {
   "cell_type": "markdown",
   "metadata": {},
   "source": [
    "Getting the shape as a Clojure vector"
   ]
  },
  {
   "cell_type": "code",
   "execution_count": 11,
   "metadata": {},
   "outputs": [
    {
     "data": {
      "text/plain": [
       "[2 3]"
      ]
     },
     "execution_count": 11,
     "metadata": {},
     "output_type": "execute_result"
    }
   ],
   "source": [
    "(ndarray/shape-vec a)"
   ]
  },
  {
   "cell_type": "markdown",
   "metadata": {},
   "source": [
    "Visualizing the `ndarray` as a Clojure vector"
   ]
  },
  {
   "cell_type": "code",
   "execution_count": 13,
   "metadata": {},
   "outputs": [
    {
     "data": {
      "text/plain": [
       "[1.0 2.0 3.0 4.0 5.0 6.0]"
      ]
     },
     "execution_count": 13,
     "metadata": {},
     "output_type": "execute_result"
    }
   ],
   "source": [
    "(ndarray/->vec a)"
   ]
  }
 ],
 "metadata": {
  "kernelspec": {
   "display_name": "Lein-Clojure",
   "language": "clojure",
   "name": "lein-clojure"
  },
  "language_info": {
   "file_extension": ".clj",
   "mimetype": "text/x-clojure",
   "name": "clojure",
   "version": "1.10.0"
  }
 },
 "nbformat": 4,
 "nbformat_minor": 2
}
